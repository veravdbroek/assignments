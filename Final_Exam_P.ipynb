{
 "cells": [
  {
   "cell_type": "markdown",
   "metadata": {},
   "source": [
    "Before you turn this problem in, make sure everything runs as expected. First, **restart the kernel** (in the menubar, select Kernel$\\rightarrow$Restart) and then **run all cells** (in the menubar, select Cell$\\rightarrow$Run All).\n",
    "\n",
    "Make sure you fill in any place that says `YOUR CODE HERE` or \"YOUR ANSWER HERE\", as well as your name and collaborators below:"
   ]
  },
  {
   "cell_type": "code",
   "execution_count": 1,
   "metadata": {},
   "outputs": [],
   "source": [
    "NAME = \"Vera van den Broek, 2014668\"\n",
    "COLLABORATORS = \"Marnix van der Pouw, 2013687\""
   ]
  },
  {
   "cell_type": "markdown",
   "metadata": {},
   "source": [
    "---"
   ]
  },
  {
   "cell_type": "markdown",
   "metadata": {},
   "source": [
    "Fill in the cell above to provide us with your name and student number, like\n",
    "\n",
    "NAME = \"Adam Smith, #student number#\"\n",
    "\n",
    "where you replace \"#student number#\" with your ... (very good!)\n",
    "\n",
    "and if you are doing this with someone else (not more than one other person):\n",
    "\n",
    "COLLABORATORS = \"Karl Marx, #student number#\""
   ]
  },
  {
   "cell_type": "markdown",
   "metadata": {
    "deletable": false,
    "editable": false,
    "nbgrader": {
     "checksum": "a7ae5c69becf064d614c6c38935eca51",
     "grade": false,
     "grade_id": "cell-895e9a7b94992ec9",
     "locked": true,
     "schema_version": 1,
     "solution": false
    }
   },
   "source": [
    "# exam June 7th, 2018\n"
   ]
  },
  {
   "cell_type": "markdown",
   "metadata": {
    "deletable": false,
    "editable": false,
    "nbgrader": {
     "checksum": "bc48d165f54aa364aa34509649fcdef5",
     "grade": false,
     "grade_id": "cell-540987818af25557",
     "locked": true,
     "schema_version": 1,
     "solution": false
    }
   },
   "source": [
    "\n",
    "In the first cell of the notebook, give us your name and student number in the way indicated above. If you do this notebook with --at max.-- one other student, give her/his name and student number as well under \"COLLABORATORS\".\n",
    "\n",
    "Fill in the notebook (see below for code cells and text cells that you need to fill in).\n",
    "\n",
    "If you look at the menus above (File, Edit, View etc.), there is one called \"Cell\". If you click on this, you can change the \"Cell Type\". Choose \"Code\" when you are typing python or R code. Choose \"Markdown\" when you are typing, well, markdown.\n",
    "\n",
    "When you finish the notebook, make sure that you **save it with the output of your code included**. \n",
    "\n",
    "Then put it on github, e.g. by dragging it onto github (see instructions below). \n",
    "\n",
    "Finally, add a link to your README file with the name of this exam: \"Exam June 7, 2018\".\n",
    "\n"
   ]
  },
  {
   "cell_type": "markdown",
   "metadata": {
    "deletable": false,
    "editable": false,
    "nbgrader": {
     "checksum": "6fad9bed312da1b0097e9c520b18e3fb",
     "grade": false,
     "grade_id": "cell-e1cf88cb799f1f43",
     "locked": true,
     "schema_version": 1,
     "solution": false
    }
   },
   "source": [
    "## price effects of mergers\n",
    "\n",
    "We consider a merger in this notebook. \n",
    "\n",
    "First we calculate the equilibrium with three firms, denoted by 1, 2 and 3. Then firms 2 and 3 merge so that we are left with 2 firms; denoted by 1 and 2.\n",
    "\n",
    "We calculate the effects of the merger on the equilibrium price.\n",
    "\n",
    "We start by importing the usual libraries."
   ]
  },
  {
   "cell_type": "code",
   "execution_count": 2,
   "metadata": {
    "deletable": false,
    "editable": false,
    "nbgrader": {
     "checksum": "7bd770ef54db47c3b6c8d0e31f6baef6",
     "grade": false,
     "grade_id": "cell-b895769bf40e183a",
     "locked": true,
     "schema_version": 1,
     "solution": false
    }
   },
   "outputs": [],
   "source": [
    "import matplotlib.pyplot as plt\n",
    "import pandas as pd\n",
    "import numpy as np\n",
    "from scipy import optimize\n",
    "%matplotlib inline"
   ]
  },
  {
   "cell_type": "markdown",
   "metadata": {},
   "source": [
    "The following code helps to calculate the equilibrium for the case with 3 firms. Note that you have seen similar code during the tutorials to calculate the equilibrium with 2 firms.\n",
    "\n",
    "We assume that before the merger each firm has constant marginal costs equal to 0.3. We assume a simple linear (inverse) demand curve of the form $p=1-Q$ where $p$ denotes price and $Q$ total output on the market. Total output equals the sum of each firm's output: $Q= q_1 + q_2+q_3$."
   ]
  },
  {
   "cell_type": "code",
   "execution_count": 3,
   "metadata": {
    "deletable": false,
    "editable": false,
    "nbgrader": {
     "checksum": "3e30f7ac9d9155ef089b8ca56a0c0436",
     "grade": false,
     "grade_id": "cell-f97a25efed556fd2",
     "locked": true,
     "schema_version": 1,
     "solution": false
    }
   },
   "outputs": [],
   "source": [
    "c0 = 0.3\n",
    "vector_c = [c0]*3\n",
    "\n",
    "def p(Q):\n",
    "    return 1 - Q\n",
    "\n",
    "def costs(q,c):\n",
    "    return c*q\n",
    "\n",
    "def profits(q,Q_other,c):\n",
    "    return p(q+Q_other)*q-costs(q,c)\n",
    "\n",
    "def reaction(Q_other,c):\n",
    "    q1 =  optimize.fminbound(lambda x: -profits(x,Q_other,c),0,1,full_output=1)\n",
    "    return q1[0]\n",
    "\n",
    "def fixed_point_three_firms(vector_q,vector_c):\n",
    "    return [vector_q[0]-reaction(vector_q[1]+vector_q[2],vector_c[0]),\n",
    "            vector_q[1]-reaction(vector_q[0]+vector_q[2],vector_c[1]),\n",
    "            vector_q[2]-reaction(vector_q[0]+vector_q[1],vector_c[2])]\n",
    "\n"
   ]
  },
  {
   "cell_type": "markdown",
   "metadata": {
    "deletable": false,
    "editable": false,
    "nbgrader": {
     "checksum": "f6ea3b2416aca7293a5450c45865f242",
     "grade": false,
     "grade_id": "cell-83284c4090d6de8c",
     "locked": true,
     "schema_version": 1,
     "solution": false
    }
   },
   "source": [
    "#### a) [0.5 points] Show that total equilibrium output equals  0.525. Derive the equilibrium price and Herfindahl index; denote these by `P0` and `H0` resp."
   ]
  },
  {
   "cell_type": "code",
   "execution_count": 4,
   "metadata": {
    "deletable": false,
    "nbgrader": {
     "checksum": "a06d73c35395adb00480733b458cb4a5",
     "grade": true,
     "grade_id": "cell-3b8ee172d9950128",
     "locked": false,
     "points": 0.5,
     "schema_version": 1,
     "solution": true
    }
   },
   "outputs": [
    {
     "name": "stdout",
     "output_type": "stream",
     "text": [
      "0.525\n",
      "0.475\n",
      "0.3333333333333333\n"
     ]
    }
   ],
   "source": [
    "initial_guess = [0,0,0]\n",
    "\n",
    "Qsum = optimize.fsolve(lambda q: fixed_point_three_firms(q,[0.3,0.3,0.3]), initial_guess)\n",
    "\n",
    "Q0 = np.sum(Qsum)\n",
    "print(Q0)\n",
    "\n",
    "P0 = 1 - Q0\n",
    "print(P0)\n",
    "\n",
    "q1 = Qsum[0]\n",
    "q2 = Qsum[1]\n",
    "q3 = Qsum[2]\n",
    "\n",
    "H0 = (q1/Q0)**2 + (q2/Q0)**2 + (q3/Q0)**2\n",
    "\n",
    "print(H0)\n"
   ]
  },
  {
   "cell_type": "markdown",
   "metadata": {
    "deletable": false,
    "editable": false,
    "nbgrader": {
     "checksum": "87b3b3e0e2d645c280e279312e489dc4",
     "grade": false,
     "grade_id": "cell-4b33762aa4a601fe",
     "locked": true,
     "schema_version": 1,
     "solution": false
    }
   },
   "source": [
    "#### b) [0.5 point] Define a function `fixed_point_two_firms` with the same structure as the function `fixed_point_three_firms` above, except that it derives the equilibrium output levels for a duopoly (two firms). Test this function by showing that each of the two firms produces 0.3333 in case both firms have zero costs."
   ]
  },
  {
   "cell_type": "code",
   "execution_count": 5,
   "metadata": {
    "deletable": false,
    "nbgrader": {
     "checksum": "024a1519155d681b57c85292df535a65",
     "grade": true,
     "grade_id": "cell-5ee215676b91f504",
     "locked": false,
     "points": 0.5,
     "schema_version": 1,
     "solution": true
    }
   },
   "outputs": [
    {
     "data": {
      "text/plain": [
       "array([0.33333333, 0.33333333])"
      ]
     },
     "execution_count": 5,
     "metadata": {},
     "output_type": "execute_result"
    }
   ],
   "source": [
    "def fixed_point_two_firms(q,c):\n",
    "    return [q[0]-reaction(q[1],c[0]),q[1]-reaction(q[0],c[1])]\n",
    "\n",
    "initial_guess = [0,0]\n",
    "\n",
    "optimize.fsolve(lambda q: fixed_point_two_firms(q,[0,0]), initial_guess)"
   ]
  },
  {
   "cell_type": "markdown",
   "metadata": {
    "deletable": false,
    "editable": false,
    "nbgrader": {
     "checksum": "5291fc8716e367572fde17ebe5844d2f",
     "grade": false,
     "grade_id": "cell-c2fada02efd7b197",
     "locked": true,
     "schema_version": 1,
     "solution": false
    }
   },
   "source": [
    "The Dutch competition authority, ACM, is asked to evaluate the effects of a merger between firms 2 and 3. Firms 2 and 3 claim that by merging they can reduce their constant marginal costs. But it is not clear by how much they will reduce their costs.\n",
    "\n",
    "The ACM assumes that the marginal cost level of the merged firm is uniformly distributed between 0 and the current marginal cost level `c0`. The merger will not affect the marginal cost level of firm 1 who does not merge. Firm 1's cost level remains `c0`.\n",
    "\n",
    "The next cell generates a vector of cost levels for the merged firm, denoted `c_after_merger`. Evaluate \"c_after_merger\" in a separate cell if you do not understand the command that defines it.\n",
    "\n",
    "Then it calculates the equilibrium output levels for (the non-merging) firm 1 and (the merged) firm 2.\n",
    "\n",
    "Note that you need to specify `initial_guess`.\n"
   ]
  },
  {
   "cell_type": "code",
   "execution_count": 6,
   "metadata": {
    "deletable": false,
    "editable": false,
    "nbgrader": {
     "checksum": "11299317cd53e31de9900700999b0324",
     "grade": false,
     "grade_id": "cell-ce91ab3e3225c57d",
     "locked": true,
     "schema_version": 1,
     "solution": false
    }
   },
   "outputs": [],
   "source": [
    "c_after_merger = np.random.uniform(0,c0,size = 100)\n",
    "\n",
    "q1_after_merger = [optimize.fsolve(lambda q: fixed_point_two_firms(q,[c0,c]), initial_guess)[0] for c in c_after_merger]\n",
    "q2_after_merger = [optimize.fsolve(lambda q: fixed_point_two_firms(q,[c0,c]), initial_guess)[1] for c in c_after_merger]\n",
    "\n",
    "\n"
   ]
  },
  {
   "cell_type": "markdown",
   "metadata": {
    "deletable": false,
    "editable": false,
    "nbgrader": {
     "checksum": "2b518306d6ff20ee42d0bc3085333095",
     "grade": false,
     "grade_id": "cell-0acc18b4f07a09f4",
     "locked": true,
     "schema_version": 1,
     "solution": false
    }
   },
   "source": [
    "#### c) [0.5 points] Create a dataframe called `df_after_merger` with three columns: `c_merged_firm`, `output_non_merging_firm`, `output_merged_firm` containing resp. the cost level of the merged firm, the output level of firm 1 and the output level of firm 2."
   ]
  },
  {
   "cell_type": "code",
   "execution_count": 7,
   "metadata": {
    "deletable": false,
    "nbgrader": {
     "checksum": "f4fc6a3bdef91fa3f656ccd3290c9f54",
     "grade": true,
     "grade_id": "cell-f3eacda828774f2d",
     "locked": false,
     "points": 0.5,
     "schema_version": 1,
     "solution": true
    }
   },
   "outputs": [
    {
     "data": {
      "text/plain": [
       "<bound method NDFrame.head of     c_merged_firm  output_merged_firm  output_non_merging_firm\n",
       "0        0.208088            0.294608                 0.202696\n",
       "1        0.234753            0.276831                 0.211584\n",
       "2        0.039760            0.406827                 0.146587\n",
       "3        0.148659            0.334227                 0.182886\n",
       "4        0.070144            0.386570                 0.156715\n",
       "5        0.215067            0.289956                 0.205022\n",
       "6        0.170787            0.319476                 0.190262\n",
       "7        0.264824            0.256784                 0.221608\n",
       "8        0.120357            0.353096                 0.173452\n",
       "9        0.011770            0.425486                 0.137257\n",
       "10       0.209157            0.293895                 0.203052\n",
       "11       0.010195            0.426536                 0.136732\n",
       "12       0.032160            0.411893                 0.144053\n",
       "13       0.265988            0.256008                 0.221996\n",
       "14       0.026525            0.415650                 0.142175\n",
       "15       0.184793            0.310138                 0.194931\n",
       "16       0.066273            0.389151                 0.155424\n",
       "17       0.185494            0.309671                 0.195165\n",
       "18       0.178315            0.314456                 0.192772\n",
       "19       0.181835            0.312110                 0.193945\n",
       "20       0.095509            0.369661                 0.165170\n",
       "21       0.156142            0.329239                 0.185381\n",
       "22       0.233738            0.277508                 0.211246\n",
       "23       0.139791            0.340139                 0.179930\n",
       "24       0.115264            0.356491                 0.171755\n",
       "25       0.019146            0.420569                 0.139715\n",
       "26       0.191128            0.305915                 0.197043\n",
       "27       0.212100            0.291933                 0.204033\n",
       "28       0.129575            0.346950                 0.176525\n",
       "29       0.167725            0.321516                 0.189242\n",
       "..            ...                 ...                      ...\n",
       "70       0.180045            0.313304                 0.193348\n",
       "71       0.192989            0.304674                 0.197663\n",
       "72       0.236686            0.275542                 0.212229\n",
       "73       0.133796            0.344136                 0.177932\n",
       "74       0.077462            0.381692                 0.159154\n",
       "75       0.182678            0.311548                 0.194226\n",
       "76       0.188557            0.307629                 0.196186\n",
       "77       0.198490            0.301007                 0.199497\n",
       "78       0.064215            0.390523                 0.154738\n",
       "79       0.185599            0.309601                 0.195200\n",
       "80       0.215212            0.289859                 0.205071\n",
       "81       0.056347            0.395768                 0.152116\n",
       "82       0.125902            0.349399                 0.175301\n",
       "83       0.108602            0.360932                 0.169534\n",
       "84       0.144736            0.336843                 0.181579\n",
       "85       0.194201            0.303866                 0.198067\n",
       "86       0.033000            0.411334                 0.144333\n",
       "87       0.171646            0.318903                 0.190549\n",
       "88       0.197329            0.301781                 0.199110\n",
       "89       0.070060            0.386626                 0.156687\n",
       "90       0.194290            0.303807                 0.198097\n",
       "91       0.052719            0.398187                 0.150906\n",
       "92       0.060881            0.392746                 0.153627\n",
       "93       0.225928            0.282715                 0.208643\n",
       "94       0.193577            0.304282                 0.197859\n",
       "95       0.010834            0.426111                 0.136945\n",
       "96       0.221052            0.285965                 0.207017\n",
       "97       0.239538            0.273641                 0.213179\n",
       "98       0.035023            0.409984                 0.145008\n",
       "99       0.146655            0.335563                 0.182218\n",
       "\n",
       "[100 rows x 3 columns]>"
      ]
     },
     "execution_count": 7,
     "metadata": {},
     "output_type": "execute_result"
    }
   ],
   "source": [
    "initial_guess = [0,0]\n",
    "\n",
    "d = {'c_merged_firm': c_after_merger, 'output_non_merging_firm': q1_after_merger, 'output_merged_firm': q2_after_merger}\n",
    "\n",
    "df_after_merger = pd.DataFrame(data=d)\n",
    "df_after_merger.head"
   ]
  },
  {
   "cell_type": "markdown",
   "metadata": {
    "deletable": false,
    "editable": false,
    "nbgrader": {
     "checksum": "a5bf4171960844da9c57375d83b6eedf",
     "grade": false,
     "grade_id": "cell-7ad058be42e19df8",
     "locked": true,
     "schema_version": 1,
     "solution": false
    }
   },
   "source": [
    "#### d) [0.5 points] Add three columns to the dataframe with resp. total equilibrium output on the market, `Q`, equilibrium price, `P` and the Herfindahl index, `H`."
   ]
  },
  {
   "cell_type": "code",
   "execution_count": 8,
   "metadata": {
    "deletable": false,
    "nbgrader": {
     "checksum": "ab6179623b39a6ae634abea45326e4ab",
     "grade": true,
     "grade_id": "cell-9c39b11747803ca1",
     "locked": false,
     "points": 0.5,
     "schema_version": 1,
     "solution": true
    }
   },
   "outputs": [
    {
     "name": "stdout",
     "output_type": "stream",
     "text": [
      "    c_merged_firm  output_merged_firm  output_non_merging_firm         Q  \\\n",
      "0        0.208088            0.294608                 0.202696  0.497304   \n",
      "1        0.234753            0.276831                 0.211584  0.488416   \n",
      "2        0.039760            0.406827                 0.146587  0.553413   \n",
      "3        0.148659            0.334227                 0.182886  0.517114   \n",
      "4        0.070144            0.386570                 0.156715  0.543285   \n",
      "5        0.215067            0.289956                 0.205022  0.494978   \n",
      "6        0.170787            0.319476                 0.190262  0.509738   \n",
      "7        0.264824            0.256784                 0.221608  0.478392   \n",
      "8        0.120357            0.353096                 0.173452  0.526548   \n",
      "9        0.011770            0.425486                 0.137257  0.562743   \n",
      "10       0.209157            0.293895                 0.203052  0.496948   \n",
      "11       0.010195            0.426536                 0.136732  0.563268   \n",
      "12       0.032160            0.411893                 0.144053  0.555947   \n",
      "13       0.265988            0.256008                 0.221996  0.478004   \n",
      "14       0.026525            0.415650                 0.142175  0.557825   \n",
      "15       0.184793            0.310138                 0.194931  0.505069   \n",
      "16       0.066273            0.389151                 0.155424  0.544576   \n",
      "17       0.185494            0.309671                 0.195165  0.504835   \n",
      "18       0.178315            0.314456                 0.192772  0.507228   \n",
      "19       0.181835            0.312110                 0.193945  0.506055   \n",
      "20       0.095509            0.369661                 0.165170  0.534830   \n",
      "21       0.156142            0.329239                 0.185381  0.514619   \n",
      "22       0.233738            0.277508                 0.211246  0.488754   \n",
      "23       0.139791            0.340139                 0.179930  0.520070   \n",
      "24       0.115264            0.356491                 0.171755  0.528245   \n",
      "25       0.019146            0.420569                 0.139715  0.560285   \n",
      "26       0.191128            0.305915                 0.197043  0.502957   \n",
      "27       0.212100            0.291933                 0.204033  0.495967   \n",
      "28       0.129575            0.346950                 0.176525  0.523475   \n",
      "29       0.167725            0.321516                 0.189242  0.510758   \n",
      "..            ...                 ...                      ...       ...   \n",
      "70       0.180045            0.313304                 0.193348  0.506652   \n",
      "71       0.192989            0.304674                 0.197663  0.502337   \n",
      "72       0.236686            0.275542                 0.212229  0.487771   \n",
      "73       0.133796            0.344136                 0.177932  0.522068   \n",
      "74       0.077462            0.381692                 0.159154  0.540846   \n",
      "75       0.182678            0.311548                 0.194226  0.505774   \n",
      "76       0.188557            0.307629                 0.196186  0.503814   \n",
      "77       0.198490            0.301007                 0.199497  0.500503   \n",
      "78       0.064215            0.390523                 0.154738  0.545262   \n",
      "79       0.185599            0.309601                 0.195200  0.504800   \n",
      "80       0.215212            0.289859                 0.205071  0.494929   \n",
      "81       0.056347            0.395768                 0.152116  0.547884   \n",
      "82       0.125902            0.349399                 0.175301  0.524699   \n",
      "83       0.108602            0.360932                 0.169534  0.530466   \n",
      "84       0.144736            0.336843                 0.181579  0.518421   \n",
      "85       0.194201            0.303866                 0.198067  0.501933   \n",
      "86       0.033000            0.411334                 0.144333  0.555667   \n",
      "87       0.171646            0.318903                 0.190549  0.509451   \n",
      "88       0.197329            0.301781                 0.199110  0.500890   \n",
      "89       0.070060            0.386626                 0.156687  0.543313   \n",
      "90       0.194290            0.303807                 0.198097  0.501903   \n",
      "91       0.052719            0.398187                 0.150906  0.549094   \n",
      "92       0.060881            0.392746                 0.153627  0.546373   \n",
      "93       0.225928            0.282715                 0.208643  0.491357   \n",
      "94       0.193577            0.304282                 0.197859  0.502141   \n",
      "95       0.010834            0.426111                 0.136945  0.563055   \n",
      "96       0.221052            0.285965                 0.207017  0.492983   \n",
      "97       0.239538            0.273641                 0.213179  0.486821   \n",
      "98       0.035023            0.409984                 0.145008  0.554992   \n",
      "99       0.146655            0.335563                 0.182218  0.517782   \n",
      "\n",
      "           P         H  \n",
      "0   0.502696  0.517079  \n",
      "1   0.511584  0.508923  \n",
      "2   0.446587  0.610566  \n",
      "3   0.482886  0.542826  \n",
      "4   0.456715  0.589500  \n",
      "5   0.505022  0.514722  \n",
      "6   0.490262  0.532129  \n",
      "7   0.521608  0.502703  \n",
      "8   0.473452  0.558199  \n",
      "9   0.437257  0.631168  \n",
      "10  0.503052  0.516708  \n",
      "11  0.436732  0.632358  \n",
      "12  0.444053  0.616052  \n",
      "13  0.521996  0.502532  \n",
      "14  0.442175  0.620173  \n",
      "15  0.494931  0.526015  \n",
      "16  0.455424  0.592102  \n",
      "17  0.495165  0.525723  \n",
      "18  0.492772  0.528776  \n",
      "19  0.493945  0.527261  \n",
      "20  0.465170  0.573095  \n",
      "21  0.485381  0.539072  \n",
      "22  0.511246  0.509190  \n",
      "23  0.479930  0.547448  \n",
      "24  0.471755  0.561151  \n",
      "25  0.439715  0.625636  \n",
      "26  0.497043  0.523428  \n",
      "27  0.504033  0.515705  \n",
      "28  0.476525  0.552996  \n",
      "29  0.489242  0.533535  \n",
      "..       ...       ...  \n",
      "70  0.493348  0.528028  \n",
      "71  0.497663  0.522690  \n",
      "72  0.512229  0.508424  \n",
      "73  0.477932  0.550676  \n",
      "74  0.459154  0.584651  \n",
      "75  0.494226  0.526904  \n",
      "76  0.496186  0.524465  \n",
      "77  0.499497  0.520567  \n",
      "78  0.454738  0.593496  \n",
      "79  0.495200  0.525680  \n",
      "80  0.505071  0.514674  \n",
      "81  0.452116  0.598886  \n",
      "82  0.475301  0.555047  \n",
      "83  0.469534  0.565092  \n",
      "84  0.481579  0.544848  \n",
      "85  0.498067  0.522215  \n",
      "86  0.444333  0.615442  \n",
      "87  0.490549  0.531738  \n",
      "88  0.499110  0.521008  \n",
      "89  0.456687  0.589556  \n",
      "90  0.498097  0.522180  \n",
      "91  0.450906  0.601405  \n",
      "92  0.453627  0.595768  \n",
      "93  0.508643  0.511363  \n",
      "94  0.497859  0.522459  \n",
      "95  0.436945  0.631875  \n",
      "96  0.507017  0.512823  \n",
      "97  0.513179  0.507712  \n",
      "98  0.445008  0.613975  \n",
      "99  0.482218  0.543855  \n",
      "\n",
      "[100 rows x 6 columns]\n"
     ]
    }
   ],
   "source": [
    "df_after_merger['Q']= df_after_merger['output_non_merging_firm']+df_after_merger['output_merged_firm']\n",
    "df_after_merger['P']= 1-df_after_merger['Q']\n",
    "df_after_merger['H']= (df_after_merger['output_merged_firm']/df_after_merger['Q'])**2 + (df_after_merger['output_non_merging_firm']/df_after_merger['Q'])**2\n",
    "\n",
    "print(df_after_merger)\n",
    "\n"
   ]
  },
  {
   "cell_type": "markdown",
   "metadata": {},
   "source": [
    "#### e) [0.5 points] Make a histogram of the equilibrium price `P` after the merger. Also indicate in the histogram the equilibrium price before the merger `P0`. Label the horizontal axis with $P$.\n",
    "\n",
    "[hint: you may want to use matplotlib's `hist`, `vlines` and `legend` to make this graph (e.g use google to find these functions); but feel free to use something else]"
   ]
  },
  {
   "cell_type": "code",
   "execution_count": 9,
   "metadata": {
    "deletable": false,
    "nbgrader": {
     "checksum": "b103cd98545261b20f937f4b9db67f68",
     "grade": true,
     "grade_id": "cell-f9193bf8e71f1a9a",
     "locked": false,
     "points": 0.5,
     "schema_version": 1,
     "solution": true
    }
   },
   "outputs": [
    {
     "data": {
      "image/png": "[encoded data removed]",
      "text/plain": [
       "<matplotlib.figure.Figure at 0x21e7e25fd68>"
      ]
     },
     "metadata": {},
     "output_type": "display_data"
    }
   ],
   "source": [
    "Equilibrium_price = df_after_merger['P']\n",
    "plt.hist(Equilibrium_price, facecolor='pink', alpha=8, edgecolor='black')\n",
    "plt.xlabel('$P$')\n",
    "plt.axvline(0.475, color='k', linestyle='dashed', linewidth=1)\n",
    "\n",
    "plt.show()"
   ]
  },
  {
   "cell_type": "markdown",
   "metadata": {},
   "source": [
    "#### f) [0.5 points] Explain why sometimes the equilibrium price after the merger exceeds the equilibrium price before the merger and sometimes it is lower than the pre-merger price. [hint: there is a trade off between two effects, depending on which effect dominates, equilibrium price increases or decreases after the merger]"
   ]
  },
  {
   "cell_type": "markdown",
   "metadata": {
    "deletable": false,
    "nbgrader": {
     "checksum": "dd9fc721b7cf7f66587e93cbfb758034",
     "grade": true,
     "grade_id": "cell-7a1f367cd2854156",
     "locked": false,
     "points": 0.5,
     "schema_version": 1,
     "solution": true
    }
   },
   "source": [
    "<span style=\"color:pink\">The equilibrium price is affected by Q, which is affected by the q's of both firms, which are affected by the costs of goods sold. These costs are randomly, uniformly, distributed as shown in the paragraph above question c). As these costs may differ, so may the q's of both firms, thus resulting in different price levels. As we've established, P is affected by the costs (cost effect) and the output (Q). If the cost effect dominates, high costs result in lower q's, resulting in higher prices. If the output rises, this will result in lower prices.</span>"
   ]
  },
  {
   "cell_type": "markdown",
   "metadata": {
    "deletable": false,
    "editable": false,
    "nbgrader": {
     "checksum": "e1e41dbf14c605bf91cdc78f70eada99",
     "grade": false,
     "grade_id": "cell-06ed6044f8938a45",
     "locked": true,
     "schema_version": 1,
     "solution": false
    }
   },
   "source": [
    "#### g) [0.5 points] Make a graph with the Herfindahl index on the horizontal axis and the equilibrium price on the vertical axis. This is straightforward for $(H,P)$ after the merger as both values are in the dataframe. Add in another color, the pre-merger combination `(H0,P0)` that we calculated above."
   ]
  },
  {
   "cell_type": "code",
   "execution_count": 10,
   "metadata": {
    "deletable": false,
    "nbgrader": {
     "checksum": "51cfaacbaf533e85d9794bc74712afd5",
     "grade": true,
     "grade_id": "cell-d647464d04870b73",
     "locked": false,
     "points": 0.5,
     "schema_version": 1,
     "solution": true
    }
   },
   "outputs": [
    {
     "data": {
      "image/png": "[encoded data removed]",
      "text/plain": [
       "<matplotlib.figure.Figure at 0x21e7e6590b8>"
      ]
     },
     "metadata": {},
     "output_type": "display_data"
    }
   ],
   "source": [
    "plt.scatter(df_after_merger['H'],df_after_merger['P'], color='pink')\n",
    "plt.axvline(0.475, color='k', linestyle='dashed', linewidth=1)\n",
    "plt.axhline((1/3), color='k', linestyle='dashed', linewidth=1)\n",
    "plt.xlabel('$H$')\n",
    "plt.ylabel('$P$')\n",
    "plt.show()"
   ]
  },
  {
   "cell_type": "markdown",
   "metadata": {
    "deletable": false,
    "editable": false,
    "nbgrader": {
     "checksum": "11b6609131b1c25886f2c6cafe0f7a59",
     "grade": false,
     "grade_id": "cell-5c5e5776a7c135a2",
     "locked": true,
     "schema_version": 1,
     "solution": false
    }
   },
   "source": [
    "#### h) [0.5 points] Use the graph under g) to discuss the relation between the Herfindahl index and the equilibrium price. To illustrate, some people think that lower values of the Herfindahl index are associated with more competitive outcome. Would you agree with this?"
   ]
  },
  {
   "cell_type": "markdown",
   "metadata": {
    "collapsed": true,
    "deletable": false,
    "nbgrader": {
     "checksum": "3d396887dde3b00420c623b9f4ea8ed2",
     "grade": true,
     "grade_id": "cell-cbd89d483b23a953",
     "locked": false,
     "points": 0.5,
     "schema_version": 1,
     "solution": true
    }
   },
   "source": [
    "<span style=\"color:pink\">The higher the Herfindahl index, the lower the equilibrium price. One may argue that low prices illustrate high competitiveness, resulting in the conclusion that we do not agree with these people.</span>"
   ]
  },
  {
   "cell_type": "markdown",
   "metadata": {},
   "source": [
    "## Github\n",
    "\n",
    "After you have finished, we need to upload this notebook on github. Make sure that you upload the file on the github page of each collaborator."
   ]
  },
  {
   "cell_type": "markdown",
   "metadata": {},
   "source": [
    "Instructions on how to upload this on github can be found [on this page](http://janboone.github.io/programming-for-economists/github.html). This page has two screencasts: one shows how to drag the notebook onto your github page, the other shows how you can use the command line to upload your notebook.\n"
   ]
  },
  {
   "cell_type": "markdown",
   "metadata": {},
   "source": [
    "Remember to update the README file in your repository to include a link to this notebook on github.\n",
    "\n",
    "\n",
    "The links that you should post start with “github.com/” and are NOT of the form “http://localhost”. Make sure you test your links after uploading."
   ]
  },
  {
   "cell_type": "code",
   "execution_count": null,
   "metadata": {},
   "outputs": [],
   "source": []
  }
 ],
 "metadata": {
  "anaconda-cloud": {},
  "kernelspec": {
   "display_name": "Python 3",
   "language": "python",
   "name": "python3"
  },
  "language_info": {
   "codemirror_mode": {
    "name": "ipython",
    "version": 3
   },
   "file_extension": ".py",
   "mimetype": "text/x-python",
   "name": "python",
   "nbconvert_exporter": "python",
   "pygments_lexer": "ipython3",
   "version": "3.6.4"
  }
 },
 "nbformat": 4,
 "nbformat_minor": 1
}
